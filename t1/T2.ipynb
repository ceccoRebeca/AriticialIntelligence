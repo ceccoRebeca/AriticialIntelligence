{
 "cells": [
  {
   "cell_type": "markdown",
   "metadata": {
    "id": "X7V5Y4vFtenJ",
    "tags": []
   },
   "source": [
    "# Primeiro de Inteligência Artificial e Sistemas Inteligentes\n",
    "\n",
    "Rebeca Cecco de Oliveira"
   ]
  },
  {
   "cell_type": "markdown",
   "metadata": {
    "id": "hxVGuqDxtieS"
   },
   "source": [
    "## Load packages"
   ]
  },
  {
   "cell_type": "code",
   "execution_count": 1,
   "metadata": {
    "executionInfo": {
     "elapsed": 3014,
     "status": "ok",
     "timestamp": 1618346480824,
     "user": {
      "displayName": "Leandro Furlam Turi",
      "photoUrl": "https://lh3.googleusercontent.com/a-/AOh14Giexbi5AM6GAXth3e0t2Z0QXQKOp9AAbTIPTXd8=s64",
      "userId": "07988333438481462003"
     },
     "user_tz": 180
    },
    "id": "fd1iiKz1AoHT"
   },
   "outputs": [],
   "source": [
    "import time\n",
    "import numpy as np\n",
    "import pandas as pd\n",
    "import seaborn as sns\n",
    "import scipy.stats as st\n",
    "from sklearn import datasets\n",
    "import matplotlib.pyplot as plt\n",
    "from sklearn.pipeline import Pipeline\n",
    "from sklearn.ensemble import RandomForestClassifier\n",
    "from sklearn.ensemble import AdaBoostClassifier\n",
    "from sklearn.ensemble import BaggingClassifier\n",
    "from sklearn.preprocessing import StandardScaler\n",
    "from sklearn.model_selection import cross_validate, GridSearchCV, RepeatedStratifiedKFold"
   ]
  },
  {
   "cell_type": "markdown",
   "metadata": {
    "id": "W12_sRNWtmZ8",
    "tags": []
   },
   "source": [
    "## Implementation of Heterogenous Pooling"
   ]
  },
  {
   "cell_type": "code",
   "execution_count": null,
   "metadata": {},
   "outputs": [],
   "source": [
    "def HeterogenousPoolingClassifier():"
   ]
  },
  {
   "cell_type": "markdown",
   "metadata": {
    "id": "9CrtsLbHuLRq",
    "tags": []
   },
   "source": [
    "## Search parameters"
   ]
  },
  {
   "cell_type": "code",
   "execution_count": 4,
   "metadata": {
    "executionInfo": {
     "elapsed": 688,
     "status": "ok",
     "timestamp": 1618349397319,
     "user": {
      "displayName": "Leandro Furlam Turi",
      "photoUrl": "https://lh3.googleusercontent.com/a-/AOh14Giexbi5AM6GAXth3e0t2Z0QXQKOp9AAbTIPTXd8=s64",
      "userId": "07988333438481462003"
     },
     "user_tz": 180
    },
    "id": "tCFQS-egPOvn"
   },
   "outputs": [],
   "source": [
    "models = {\n",
    "    'Random Forest': RandomForestClassifier(),\n",
    "    'Bagging' : BaggingClassifier();\n",
    "    'AdaBoost' : AdaBoostClassifier();\n",
    "    'HeterogenousPooling' : HeterogenousPoolingClassifier();\n",
    "}\n",
    "\n",
    "parameters = {\n",
    "    'Random Forest': {'n_estimators': [10, 25, 50, 100]},\n",
    "    'Bagging': {'n_estimators': [10,25,50,100]},\n",
    "    'RandomForest': {'n_estimators': [10,25,50,100]},\n",
    "    'HeterogenousPooling': {'n_samples': [1,3,5,7]}\n",
    "    \n",
    "}"
   ]
  },
  {
   "cell_type": "markdown",
   "metadata": {
    "id": "sEUYEOpcuQ7a",
    "tags": []
   },
   "source": [
    "## Experimental"
   ]
  },
  {
   "cell_type": "code",
   "execution_count": 12,
   "metadata": {
    "executionInfo": {
     "elapsed": 905,
     "status": "ok",
     "timestamp": 1618347066361,
     "user": {
      "displayName": "Leandro Furlam Turi",
      "photoUrl": "https://lh3.googleusercontent.com/a-/AOh14Giexbi5AM6GAXth3e0t2Z0QXQKOp9AAbTIPTXd8=s64",
      "userId": "07988333438481462003"
     },
     "user_tz": 180
    },
    "id": "oW73UyI8SgiF"
   },
   "outputs": [],
   "source": [
    "def experimental(base, filename):\n",
    "    X, y = iris.data, iris.target\n",
    "    print()\n",
    "    print(filename)\n",
    "    ans = {}\n",
    "    for c in ['Bagging', 'AdaBoost', 'Random Forest']:\n",
    "        start = time.process_time()\n",
    "        clf = Pipeline([('transformer', StandardScaler()), \n",
    "                        ('estimator', GridSearchCV(models[c], param_grid=parameters[c], scoring='accuracy', \n",
    "                                                   cv=RepeatedStratifiedKFold(n_splits=4, n_repeats=3, random_state=36851234)))]).fit(X, y) # Grid search\n",
    "        pipeline = Pipeline([('transformer', StandardScaler()), ('estimator', clf)])\n",
    "        ans[c] = cross_validate(pipeline, X, y, \n",
    "                                cv=RepeatedStratifiedKFold(n_splits=10, n_repeats=3, random_state=36851234), scoring='accuracy')\n",
    "        print('Elapsed time of {} is {:.6f} seconds.'.format(c, time.process_time() - start))\n",
    "\n"
   ]
  },
  {
   "cell_type": "markdown",
   "metadata": {
    "id": "CxU_kjYeuXLD"
   },
   "source": [
    "### Execution"
   ]
  },
  {
   "cell_type": "code",
   "execution_count": 5,
   "metadata": {
    "colab": {
     "base_uri": "https://localhost:8080/",
     "height": 493
    },
    "executionInfo": {
     "elapsed": 110121,
     "status": "error",
     "timestamp": 1618348523192,
     "user": {
      "displayName": "Leandro Furlam Turi",
      "photoUrl": "https://lh3.googleusercontent.com/a-/AOh14Giexbi5AM6GAXth3e0t2Z0QXQKOp9AAbTIPTXd8=s64",
      "userId": "07988333438481462003"
     },
     "user_tz": 180
    },
    "id": "rRkxWadUIOaE",
    "outputId": "afee9494-6719-48f3-abb9-470d392daa8f",
    "tags": []
   },
   "outputs": [
    {
     "ename": "NameError",
     "evalue": "name 'experimental' is not defined",
     "output_type": "error",
     "traceback": [
      "\u001b[0;31m---------------------------------------------------------------------------\u001b[0m",
      "\u001b[0;31mNameError\u001b[0m                                 Traceback (most recent call last)",
      "\u001b[0;32m/tmp/ipykernel_239/3343501275.py\u001b[0m in \u001b[0;36m<module>\u001b[0;34m\u001b[0m\n\u001b[1;32m      5\u001b[0m \u001b[0;34m\u001b[0m\u001b[0m\n\u001b[1;32m      6\u001b[0m \u001b[0;32mfor\u001b[0m \u001b[0mk\u001b[0m\u001b[0;34m,\u001b[0m \u001b[0mbase\u001b[0m \u001b[0;32min\u001b[0m \u001b[0;34m{\u001b[0m\u001b[0;34m'iris'\u001b[0m\u001b[0;34m:\u001b[0m\u001b[0miris\u001b[0m\u001b[0;34m,\u001b[0m \u001b[0;34m'digits'\u001b[0m\u001b[0;34m:\u001b[0m\u001b[0mdigits\u001b[0m\u001b[0;34m,\u001b[0m \u001b[0;34m'wine'\u001b[0m\u001b[0;34m:\u001b[0m\u001b[0mwine\u001b[0m\u001b[0;34m,\u001b[0m \u001b[0;34m'cancer'\u001b[0m\u001b[0;34m:\u001b[0m\u001b[0mcancer\u001b[0m\u001b[0;34m}\u001b[0m\u001b[0;34m.\u001b[0m\u001b[0mitems\u001b[0m\u001b[0;34m(\u001b[0m\u001b[0;34m)\u001b[0m\u001b[0;34m:\u001b[0m\u001b[0;34m\u001b[0m\u001b[0;34m\u001b[0m\u001b[0m\n\u001b[0;32m----> 7\u001b[0;31m     \u001b[0mexperimental\u001b[0m\u001b[0;34m(\u001b[0m\u001b[0mbase\u001b[0m\u001b[0;34m,\u001b[0m \u001b[0mk\u001b[0m\u001b[0;34m)\u001b[0m\u001b[0;34m\u001b[0m\u001b[0;34m\u001b[0m\u001b[0m\n\u001b[0m",
      "\u001b[0;31mNameError\u001b[0m: name 'experimental' is not defined"
     ]
    }
   ],
   "source": [
    "iris = datasets.load_iris()\n",
    "digits = datasets.load_digits()\n",
    "wine = datasets.load_wine()\n",
    "cancer = datasets.load_breast_cancer()\n",
    "\n",
    "for k, base in {'iris':iris, 'digits':digits, 'wine':wine, 'cancer':cancer}.items():\n",
    "    experimental(base, k)"
   ]
  },
  {
   "cell_type": "markdown",
   "metadata": {
    "id": "0JOVIvsZuaGq"
   },
   "source": [
    "### Results"
   ]
  },
  {
   "cell_type": "code",
   "execution_count": null,
   "metadata": {
    "id": "QLTUtdk8ZWRg"
   },
   "outputs": [],
   "source": [
    "import pickle\n",
    "\n",
    "filename = \"iris\"\n",
    "ans = pickle.load(open(filename, \"rb\" ))"
   ]
  },
  {
   "cell_type": "code",
   "execution_count": null,
   "metadata": {},
   "outputs": [],
   "source": [
    "DF = pd.DataFrame()\n",
    "for a in ans.keys():\n",
    "    DF[a] = ans[a]['test_score']\n",
    "DF.head()"
   ]
  },
  {
   "cell_type": "code",
   "execution_count": null,
   "metadata": {},
   "outputs": [],
   "source": [
    "pd.DataFrame({'mean': DF.mean(), 'std': DF.std(), \n",
    "              'confit_inf': DF.apply(lambda x: st.t.interval(0.95, len(x)-1, loc=np.mean(x), scale=st.sem(x))[0]),\n",
    "              'confit_sup': DF.apply(lambda x: st.t.interval(0.95, len(x)-1, loc=np.mean(x), scale=st.sem(x))[0])})"
   ]
  },
  {
   "cell_type": "code",
   "execution_count": null,
   "metadata": {},
   "outputs": [],
   "source": [
    "plt.figure()\n",
    "sns.boxplot(data=DF)\n",
    "plt.xticks(rotation=90)\n",
    "plt.ylabel('Value')\n",
    "plt.tight_layout()\n",
    "plt.show()"
   ]
  },
  {
   "cell_type": "code",
   "execution_count": null,
   "metadata": {},
   "outputs": [],
   "source": [
    "import scipy.stats as stats\n",
    "M = [[-1]*len(ans) for _ in range(len(ans))]\n",
    "\n",
    "for i in range(len(ans)):\n",
    "    for j in range(i+1, len(ans)):\n",
    "        # Calculate the t-test on TWO RELATED samples of scores, a and b.\n",
    "        M[i][j] = stats.ttest_rel(DF.iloc[:,i], DF.iloc[:,j]).pvalue\n",
    "        if any((DF.iloc[:,i] - DF.iloc[:,j]) != 0):\n",
    "            # Calculate the Wilcoxon signed-rank test.\n",
    "            M[j][i] = stats.wilcoxon(DF.iloc[:,i], DF.iloc[:,j]).pvalue\n",
    "pd.DataFrame(M, index=DF.columns, columns=DF.columns)\n",
    "# Reject when p-value is greater then 0.05"
   ]
  }
 ],
 "metadata": {
  "colab": {
   "authorship_tag": "ABX9TyN+/vUB1nk8vamMXsbJff1F",
   "collapsed_sections": [],
   "name": "T2.ipynb",
   "provenance": []
  },
  "kernelspec": {
   "display_name": "Python 3 (ipykernel)",
   "language": "python",
   "name": "python3"
  },
  "language_info": {
   "codemirror_mode": {
    "name": "ipython",
    "version": 3
   },
   "file_extension": ".py",
   "mimetype": "text/x-python",
   "name": "python",
   "nbconvert_exporter": "python",
   "pygments_lexer": "ipython3",
   "version": "3.8.10"
  }
 },
 "nbformat": 4,
 "nbformat_minor": 4
}
