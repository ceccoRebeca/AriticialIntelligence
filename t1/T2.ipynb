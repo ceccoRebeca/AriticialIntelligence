{
 "cells": [
  {
   "cell_type": "markdown",
   "metadata": {
    "id": "X7V5Y4vFtenJ",
    "tags": []
   },
   "source": [
    "# Primeiro de Inteligência Artificial e Sistemas Inteligentes\n",
    "\n",
    "Rebeca Cecco de Oliveira"
   ]
  },
  {
   "cell_type": "markdown",
   "metadata": {
    "id": "hxVGuqDxtieS"
   },
   "source": [
    "## Load packages"
   ]
  },
  {
   "cell_type": "code",
   "execution_count": 1,
   "metadata": {
    "executionInfo": {
     "elapsed": 3014,
     "status": "ok",
     "timestamp": 1618346480824,
     "user": {
      "displayName": "Leandro Furlam Turi",
      "photoUrl": "https://lh3.googleusercontent.com/a-/AOh14Giexbi5AM6GAXth3e0t2Z0QXQKOp9AAbTIPTXd8=s64",
      "userId": "07988333438481462003"
     },
     "user_tz": 180
    },
    "id": "fd1iiKz1AoHT"
   },
   "outputs": [],
   "source": [
    "import time\n",
    "import numpy as np\n",
    "import pandas as pd\n",
    "import seaborn as sns\n",
    "import scipy.stats as st\n",
    "import pickle\n",
    "from sklearn import datasets\n",
    "import matplotlib.pyplot as plt\n",
    "from sklearn.pipeline import Pipeline\n",
    "from sklearn.ensemble import RandomForestClassifier\n",
    "from sklearn.ensemble import AdaBoostClassifier\n",
    "from sklearn.ensemble import BaggingClassifier\n",
    "from sklearn.preprocessing import StandardScaler\n",
    "from sklearn.model_selection import cross_validate, GridSearchCV, RepeatedStratifiedKFold\n",
    "from sklearn.utils.validation import check_X_y, check_array, check_is_fitted\n",
    "from sklearn.base import BaseEstimator, ClassifierMixin\n",
    "from sklearn.naive_bayes import GaussianNB\n",
    "from sklearn.tree import DecisionTreeClassifier\n",
    "from sklearn.neighbors import KNeighborsClassifier\n",
    "from sklearn.utils import resample"
   ]
  },
  {
   "cell_type": "markdown",
   "metadata": {
    "id": "W12_sRNWtmZ8",
    "tags": []
   },
   "source": [
    "## Implementation of Heterogenous Pooling"
   ]
  },
  {
   "cell_type": "code",
   "execution_count": 12,
   "metadata": {},
   "outputs": [],
   "source": [
    "class HeterogenousPoolingClassifier(BaseEstimator, ClassifierMixin):\n",
    "    def __init__(self, n_samples=3):\n",
    "        self.n_samples = n_samples\n",
    "    \n",
    "    def fit(self, X, y):\n",
    "        # Check that X and y have correct shape\n",
    "        X, y = check_X_y(X, y)\n",
    "        # Store the classes seen during fit\n",
    "        self.classes_ = np.unique(y)\n",
    "        self.n_classes_ = len(self.classes_)\n",
    "\n",
    "        self.X_ = X\n",
    "        self.y_ = y\n",
    "\n",
    "        values, counts = np.unique(y, return_counts=True)\n",
    "        classes = pd.DataFrame({'values':values, 'counts':counts})\n",
    "        classes.sort_values('counts', ascending=False, inplace=True)\n",
    "        self._classes = classes\n",
    "\n",
    "        self._clfs = {\n",
    "            'GaussianNB': [GaussianNB() for _ in range(self.n_samples)],\n",
    "            'DecisionTreeClassifier':[DecisionTreeClassifier() for _ in range(self.n_samples)] ,\n",
    "            'KNeighborsClassifier': [KNeighborsClassifier() for _ in range (self.n_samples)]\n",
    "        }\n",
    "\n",
    "        for sample in range(self.n_samples):\n",
    "            if(sample == 0):\n",
    "                X_train, y_train = X, y\n",
    "            else:\n",
    "                X_train, y_train = resample(X, y, random_state=sample-1)\n",
    "\n",
    "            self._clfs['GaussianNB'][sample].fit(X_train,y_train)\n",
    "            self._clfs['DecisionTreeClassifier'][sample].fit(X_train,y_train)\n",
    "            self._clfs['KNeighborsClassifier'][sample].fit(X_train,y_train)\n",
    "\n",
    "        return self\n",
    "    \n",
    "    \n",
    "    def predict(self, X, y):\n",
    "        # Check is fit had been called\n",
    "        check_is_fitted(self)\n",
    "        \n",
    "        # Input validation\n",
    "        X = check_array(X)\n",
    "        \n",
    "        df = pd.DataFrame()\n",
    "\n",
    "        for sample in range(self.n_samples):\n",
    "            df['GaussianNB_' + str(sample)] = self._clfs['GaussianNB'][sample].predict(X)\n",
    "            df['DecisionTreeClassifier_' + str(sample)] = self._clfs['DecisionTreeClassifier'][sample].predict(X)\n",
    "            df['KNeighborsClassifier_' + str(sample)] = self._clfs['KNeighborsClassifier'][sample].predict(X)\n",
    "\n",
    "        modes = df.mode(axis=1)\n",
    "        modes['pred'] = modes.iloc[:,0]\n",
    "\n",
    "        if (len(modes.columns) > 2):\n",
    "            modes_ajust = modes.loc[~modes.iloc[:,1].isnull()]\n",
    "            for i,row in modes_ajust.iterrows():\n",
    "                values = row.values[:-1]\n",
    "                values = values[~np.isnan(values)]\n",
    "                possiveis = self._classes.loc[self._classes['values'].isin(values),:]\n",
    "\n",
    "                modes.iloc[i,:]['pred'] = possiveis.loc[possiveis['counts'].idxmax()]['values']\n",
    "\n",
    "        return modes['pred'].to_numpy()"
   ]
  },
  {
   "cell_type": "code",
   "execution_count": 6,
   "metadata": {},
   "outputs": [
    {
     "data": {
      "text/plain": [
       "array([0, 0, 0, 0, 0, 0, 0, 0, 0, 0, 0, 0, 0, 0, 0, 0, 0, 0, 0, 0, 0, 0,\n",
       "       0, 0, 0, 0, 0, 0, 0, 0, 0, 0, 0, 0, 0, 0, 0, 0, 0, 0, 0, 0, 0, 0,\n",
       "       0, 0, 0, 0, 0, 0, 1, 1, 1, 1, 1, 1, 1, 1, 1, 1, 1, 1, 1, 1, 1, 1,\n",
       "       1, 1, 1, 1, 2, 1, 1, 1, 1, 1, 1, 1, 1, 1, 1, 1, 1, 2, 1, 1, 1, 1,\n",
       "       1, 1, 1, 1, 1, 1, 1, 1, 1, 1, 1, 1, 2, 2, 2, 2, 2, 2, 1, 2, 2, 2,\n",
       "       2, 2, 2, 2, 2, 2, 2, 2, 2, 1, 2, 2, 2, 2, 2, 2, 2, 2, 2, 2, 2, 2,\n",
       "       2, 2, 2, 2, 2, 2, 2, 2, 2, 2, 2, 2, 2, 2, 2, 2, 2, 2])"
      ]
     },
     "execution_count": 6,
     "metadata": {},
     "output_type": "execute_result"
    }
   ],
   "source": [
    "cls = HeterogenousPoolingClassifier(3)\n",
    "cls.fit(X, y)\n",
    "cls.predict(X, y)"
   ]
  },
  {
   "cell_type": "markdown",
   "metadata": {
    "id": "9CrtsLbHuLRq",
    "tags": []
   },
   "source": [
    "## Search parameters"
   ]
  },
  {
   "cell_type": "code",
   "execution_count": 13,
   "metadata": {
    "executionInfo": {
     "elapsed": 688,
     "status": "ok",
     "timestamp": 1618349397319,
     "user": {
      "displayName": "Leandro Furlam Turi",
      "photoUrl": "https://lh3.googleusercontent.com/a-/AOh14Giexbi5AM6GAXth3e0t2Z0QXQKOp9AAbTIPTXd8=s64",
      "userId": "07988333438481462003"
     },
     "user_tz": 180
    },
    "id": "tCFQS-egPOvn"
   },
   "outputs": [],
   "source": [
    "#dicionário de modelos\n",
    "models = {\n",
    "    'Random Forest': RandomForestClassifier(),\n",
    "    'Bagging' : BaggingClassifier(),\n",
    "    'AdaBoost' : AdaBoostClassifier(),\n",
    "    'HeterogenousPooling' : HeterogenousPoolingClassifier()\n",
    "}\n",
    "#parametros dados pelo professor na espeficiação do trabalho\n",
    "parameters = {\n",
    "    'Random Forest': {'n_estimators': [10, 25, 50, 100]},\n",
    "    'Bagging': {'n_estimators': [10,25,50,100]},\n",
    "    'AdaBoost': {'n_estimators': [10,25,50,100]},\n",
    "    'HeterogenousPooling': {'n_samples': [1,3,5,7]}\n",
    "}"
   ]
  },
  {
   "cell_type": "markdown",
   "metadata": {
    "id": "sEUYEOpcuQ7a",
    "tags": []
   },
   "source": [
    "## Experimental"
   ]
  },
  {
   "cell_type": "code",
   "execution_count": 9,
   "metadata": {
    "executionInfo": {
     "elapsed": 905,
     "status": "ok",
     "timestamp": 1618347066361,
     "user": {
      "displayName": "Leandro Furlam Turi",
      "photoUrl": "https://lh3.googleusercontent.com/a-/AOh14Giexbi5AM6GAXth3e0t2Z0QXQKOp9AAbTIPTXd8=s64",
      "userId": "07988333438481462003"
     },
     "user_tz": 180
    },
    "id": "oW73UyI8SgiF"
   },
   "outputs": [],
   "source": [
    "def experimental(base, filename):\n",
    "    X, y = iris.data, iris.target\n",
    "    print()\n",
    "    print(filename)\n",
    "    ans = {}\n",
    "    for c in ['Random Forest', 'Bagging', 'AdaBoost', 'HeterogenousPooling']:\n",
    "        start = time.process_time()\n",
    "        clf = Pipeline([('transformer', StandardScaler()), \n",
    "                        ('estimator', GridSearchCV(models[c], param_grid=parameters[c], scoring='accuracy', \n",
    "                                                   cv=RepeatedStratifiedKFold(n_splits=4, n_repeats=3, random_state=36851234)))]).fit(X, y) # Grid search\n",
    "        pipeline = Pipeline([('transformer', StandardScaler()), ('estimator', clf)])\n",
    "        ans[c] = cross_validate(pipeline, X, y, \n",
    "                                cv=RepeatedStratifiedKFold(n_splits=10, n_repeats=3, random_state=36851234), scoring='accuracy')\n",
    "        print('Elapsed time of {} is {:.6f} seconds.'.format(c, time.process_time() - start))\n",
    "\n"
   ]
  },
  {
   "cell_type": "markdown",
   "metadata": {
    "id": "CxU_kjYeuXLD"
   },
   "source": [
    "### Execution"
   ]
  },
  {
   "cell_type": "code",
   "execution_count": null,
   "metadata": {
    "colab": {
     "base_uri": "https://localhost:8080/",
     "height": 493
    },
    "executionInfo": {
     "elapsed": 110121,
     "status": "error",
     "timestamp": 1618348523192,
     "user": {
      "displayName": "Leandro Furlam Turi",
      "photoUrl": "https://lh3.googleusercontent.com/a-/AOh14Giexbi5AM6GAXth3e0t2Z0QXQKOp9AAbTIPTXd8=s64",
      "userId": "07988333438481462003"
     },
     "user_tz": 180
    },
    "id": "rRkxWadUIOaE",
    "outputId": "afee9494-6719-48f3-abb9-470d392daa8f",
    "tags": []
   },
   "outputs": [],
   "source": [
    "digits = datasets.load_digits()\n",
    "wine = datasets.load_wine()\n",
    "cancer = datasets.load_breast_cancer()\n",
    "\n",
    "for k, base in {'digits':digits, 'wine':wine, 'cancer':cancer}.items():\n",
    "    experimental(base, k)"
   ]
  },
  {
   "cell_type": "markdown",
   "metadata": {
    "id": "0JOVIvsZuaGq"
   },
   "source": [
    "### Results"
   ]
  },
  {
   "cell_type": "code",
   "execution_count": null,
   "metadata": {
    "id": "QLTUtdk8ZWRg"
   },
   "outputs": [],
   "source": [
    "import pickle\n",
    "\n",
    "filename = \"iris\"\n",
    "ans = pickle.load(open(filename, \"rb\" ))"
   ]
  },
  {
   "cell_type": "code",
   "execution_count": null,
   "metadata": {},
   "outputs": [],
   "source": [
    "DF = pd.DataFrame()\n",
    "for a in ans.keys():\n",
    "    DF[a] = ans[a]['test_score']\n",
    "DF.head()"
   ]
  },
  {
   "cell_type": "code",
   "execution_count": null,
   "metadata": {},
   "outputs": [],
   "source": [
    "pd.DataFrame({'mean': DF.mean(), 'std': DF.std(), \n",
    "              'confit_inf': DF.apply(lambda x: st.t.interval(0.95, len(x)-1, loc=np.mean(x), scale=st.sem(x))[0]),\n",
    "              'confit_sup': DF.apply(lambda x: st.t.interval(0.95, len(x)-1, loc=np.mean(x), scale=st.sem(x))[0])})"
   ]
  },
  {
   "cell_type": "code",
   "execution_count": null,
   "metadata": {},
   "outputs": [],
   "source": [
    "plt.figure()\n",
    "sns.boxplot(data=DF)\n",
    "plt.xticks(rotation=90)\n",
    "plt.ylabel('Value')\n",
    "plt.tight_layout()\n",
    "plt.show()"
   ]
  },
  {
   "cell_type": "code",
   "execution_count": null,
   "metadata": {},
   "outputs": [],
   "source": [
    "import scipy.stats as stats\n",
    "M = [[-1]*len(ans) for _ in range(len(ans))]\n",
    "\n",
    "for i in range(len(ans)):\n",
    "    for j in range(i+1, len(ans)):\n",
    "        # Calculate the t-test on TWO RELATED samples of scores, a and b.\n",
    "        M[i][j] = stats.ttest_rel(DF.iloc[:,i], DF.iloc[:,j]).pvalue\n",
    "        if any((DF.iloc[:,i] - DF.iloc[:,j]) != 0):\n",
    "            # Calculate the Wilcoxon signed-rank test.\n",
    "            M[j][i] = stats.wilcoxon(DF.iloc[:,i], DF.iloc[:,j]).pvalue\n",
    "pd.DataFrame(M, index=DF.columns, columns=DF.columns)\n",
    "# Reject when p-value is greater then 0.05"
   ]
  }
 ],
 "metadata": {
  "colab": {
   "authorship_tag": "ABX9TyN+/vUB1nk8vamMXsbJff1F",
   "collapsed_sections": [],
   "name": "T2.ipynb",
   "provenance": []
  },
  "kernelspec": {
   "display_name": "Python 3 (ipykernel)",
   "language": "python",
   "name": "python3"
  },
  "language_info": {
   "codemirror_mode": {
    "name": "ipython",
    "version": 3
   },
   "file_extension": ".py",
   "mimetype": "text/x-python",
   "name": "python",
   "nbconvert_exporter": "python",
   "pygments_lexer": "ipython3",
   "version": "3.8.10"
  }
 },
 "nbformat": 4,
 "nbformat_minor": 4
}
